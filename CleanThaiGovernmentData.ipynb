{
  "nbformat": 4,
  "nbformat_minor": 0,
  "metadata": {
    "colab": {
      "name": "CleanThaiGovernmentData.ipynb",
      "provenance": [],
      "collapsed_sections": [],
      "mount_file_id": "1nyleMI1PfniYvOp085M4Il6scdCeKvwW",
      "authorship_tag": "ABX9TyOYuj4P53TOWRJwbbAGqPIc",
      "include_colab_link": true
    },
    "kernelspec": {
      "name": "python3",
      "display_name": "Python 3"
    }
  },
  "cells": [
    {
      "cell_type": "markdown",
      "metadata": {
        "id": "view-in-github",
        "colab_type": "text"
      },
      "source": [
        "<a href=\"https://colab.research.google.com/github/spps-supalerk/ThaiGovernmentData/blob/main/CleanThaiGovernmentData.ipynb\" target=\"_parent\"><img src=\"https://colab.research.google.com/assets/colab-badge.svg\" alt=\"Open In Colab\"/></a>"
      ]
    },
    {
      "cell_type": "code",
      "metadata": {
        "id": "U-w0yQ1-UURr"
      },
      "source": [
        "from pydrive.auth import GoogleAuth\r\n",
        "from pydrive.drive import GoogleDrive\r\n",
        "from google.colab import auth\r\n",
        "from oauth2client.client import GoogleCredentials\r\n",
        "auth.authenticate_user()\r\n",
        "gauth = GoogleAuth()\r\n",
        "gauth.credentials = GoogleCredentials.get_application_default()\r\n",
        "drive2 = GoogleDrive(gauth)"
      ],
      "execution_count": 1,
      "outputs": []
    },
    {
      "cell_type": "code",
      "metadata": {
        "id": "h1eYltrSUhm2"
      },
      "source": [
        "import pandas as pd\r\n",
        "import numpy as np\r\n",
        "import warnings\r\n",
        "warnings.filterwarnings('ignore')"
      ],
      "execution_count": 2,
      "outputs": []
    },
    {
      "cell_type": "markdown",
      "metadata": {
        "id": "_3QFHctpZnnJ"
      },
      "source": [
        "# Thailand : Thai Population by Tambon (2562)\r\n",
        "Link : https://stat.bora.dopa.go.th/new_stat/webPage/statByYear.php"
      ]
    },
    {
      "cell_type": "code",
      "metadata": {
        "colab": {
          "base_uri": "https://localhost:8080/",
          "height": 198
        },
        "id": "oY7Ct0ZGZv_C",
        "outputId": "eec3adc3-4710-449d-ec7b-9b997a0bf1dc"
      },
      "source": [
        "df_pop = pd.read_excel('/content/drive/MyDrive/ThaiME/ExternalData/population_62.xlsx')\r\n",
        "\r\n",
        "df_pop.head()"
      ],
      "execution_count": 3,
      "outputs": [
        {
          "output_type": "execute_result",
          "data": {
            "text/html": [
              "<div>\n",
              "<style scoped>\n",
              "    .dataframe tbody tr th:only-of-type {\n",
              "        vertical-align: middle;\n",
              "    }\n",
              "\n",
              "    .dataframe tbody tr th {\n",
              "        vertical-align: top;\n",
              "    }\n",
              "\n",
              "    .dataframe thead th {\n",
              "        text-align: right;\n",
              "    }\n",
              "</style>\n",
              "<table border=\"1\" class=\"dataframe\">\n",
              "  <thead>\n",
              "    <tr style=\"text-align: right;\">\n",
              "      <th></th>\n",
              "      <th>YYMM</th>\n",
              "      <th>ProvinceCode</th>\n",
              "      <th>Province</th>\n",
              "      <th>AmphurCode</th>\n",
              "      <th>Amphur</th>\n",
              "      <th>TambonCode</th>\n",
              "      <th>Tambon</th>\n",
              "      <th>Male</th>\n",
              "      <th>Female</th>\n",
              "      <th>Total</th>\n",
              "      <th>House</th>\n",
              "    </tr>\n",
              "  </thead>\n",
              "  <tbody>\n",
              "    <tr>\n",
              "      <th>0</th>\n",
              "      <td>6312</td>\n",
              "      <td>0</td>\n",
              "      <td>ทั่วประเทศ</td>\n",
              "      <td>0</td>\n",
              "      <td></td>\n",
              "      <td>0</td>\n",
              "      <td></td>\n",
              "      <td>32375532</td>\n",
              "      <td>33811195</td>\n",
              "      <td>66186727</td>\n",
              "      <td>27224743</td>\n",
              "    </tr>\n",
              "    <tr>\n",
              "      <th>1</th>\n",
              "      <td>6312</td>\n",
              "      <td>10</td>\n",
              "      <td>กรุงเทพมหานคร</td>\n",
              "      <td>0</td>\n",
              "      <td></td>\n",
              "      <td>0</td>\n",
              "      <td></td>\n",
              "      <td>2625938</td>\n",
              "      <td>2962284</td>\n",
              "      <td>5588222</td>\n",
              "      <td>3103483</td>\n",
              "    </tr>\n",
              "    <tr>\n",
              "      <th>2</th>\n",
              "      <td>6312</td>\n",
              "      <td>10</td>\n",
              "      <td>กรุงเทพมหานคร</td>\n",
              "      <td>1001</td>\n",
              "      <td>ท้องถิ่นเขตพระนคร</td>\n",
              "      <td>0</td>\n",
              "      <td></td>\n",
              "      <td>21675</td>\n",
              "      <td>23248</td>\n",
              "      <td>44923</td>\n",
              "      <td>19137</td>\n",
              "    </tr>\n",
              "    <tr>\n",
              "      <th>3</th>\n",
              "      <td>6312</td>\n",
              "      <td>10</td>\n",
              "      <td>กรุงเทพมหานคร</td>\n",
              "      <td>1001</td>\n",
              "      <td>ท้องถิ่นเขตพระนคร</td>\n",
              "      <td>10010100</td>\n",
              "      <td>พระบรมมหาราชวัง</td>\n",
              "      <td>1977</td>\n",
              "      <td>1369</td>\n",
              "      <td>3346</td>\n",
              "      <td>1207</td>\n",
              "    </tr>\n",
              "    <tr>\n",
              "      <th>4</th>\n",
              "      <td>6312</td>\n",
              "      <td>10</td>\n",
              "      <td>กรุงเทพมหานคร</td>\n",
              "      <td>1001</td>\n",
              "      <td>ท้องถิ่นเขตพระนคร</td>\n",
              "      <td>10010200</td>\n",
              "      <td>วังบูรพาภิรมย์</td>\n",
              "      <td>4880</td>\n",
              "      <td>4770</td>\n",
              "      <td>9650</td>\n",
              "      <td>5363</td>\n",
              "    </tr>\n",
              "  </tbody>\n",
              "</table>\n",
              "</div>"
            ],
            "text/plain": [
              "   YYMM  ProvinceCode       Province  ...    Female     Total     House\n",
              "0  6312             0     ทั่วประเทศ  ...  33811195  66186727  27224743\n",
              "1  6312            10  กรุงเทพมหานคร  ...   2962284   5588222   3103483\n",
              "2  6312            10  กรุงเทพมหานคร  ...     23248     44923     19137\n",
              "3  6312            10  กรุงเทพมหานคร  ...      1369      3346      1207\n",
              "4  6312            10  กรุงเทพมหานคร  ...      4770      9650      5363\n",
              "\n",
              "[5 rows x 11 columns]"
            ]
          },
          "metadata": {
            "tags": []
          },
          "execution_count": 3
        }
      ]
    },
    {
      "cell_type": "code",
      "metadata": {
        "colab": {
          "base_uri": "https://localhost:8080/",
          "height": 198
        },
        "id": "piU2_PtVZ4x7",
        "outputId": "6a7128c3-6a90-4535-d77c-d78cc228682d"
      },
      "source": [
        "# filter sub-total while contains 0 in TabonCode column\r\n",
        "df_pop = df_pop[df_pop['TambonCode']!=0]\r\n",
        "\r\n",
        "# remove 'อำเภอ' in column Amphur\r\n",
        "df_pop['Amphur'] = df_pop['Amphur'].str.replace('อำเภอ','')\r\n",
        "\r\n",
        "# remove 'จังหวัด' in column Province\r\n",
        "df_pop['Province'] = df_pop['Province'].str.replace('จังหวัด','')\r\n",
        "df_pop['Province'] = df_pop['Province'].str.strip()\r\n",
        "\r\n",
        "# select needed column\r\n",
        "lst_col = ['Province', 'Amphur', 'Tambon', 'Total', 'House']\r\n",
        "df_pop_cleaned = df_pop[lst_col]\r\n",
        "\r\n",
        "# change column name\r\n",
        "df_pop_cleaned.columns = ['province', 'district', 'subdistrict', 'population_63', 'household_63']\r\n",
        "df_pop_cleaned.head()"
      ],
      "execution_count": 70,
      "outputs": [
        {
          "output_type": "execute_result",
          "data": {
            "text/html": [
              "<div>\n",
              "<style scoped>\n",
              "    .dataframe tbody tr th:only-of-type {\n",
              "        vertical-align: middle;\n",
              "    }\n",
              "\n",
              "    .dataframe tbody tr th {\n",
              "        vertical-align: top;\n",
              "    }\n",
              "\n",
              "    .dataframe thead th {\n",
              "        text-align: right;\n",
              "    }\n",
              "</style>\n",
              "<table border=\"1\" class=\"dataframe\">\n",
              "  <thead>\n",
              "    <tr style=\"text-align: right;\">\n",
              "      <th></th>\n",
              "      <th>province</th>\n",
              "      <th>district</th>\n",
              "      <th>subdistrict</th>\n",
              "      <th>population_63</th>\n",
              "      <th>household_63</th>\n",
              "    </tr>\n",
              "  </thead>\n",
              "  <tbody>\n",
              "    <tr>\n",
              "      <th>3</th>\n",
              "      <td>กรุงเทพมหานคร</td>\n",
              "      <td>ท้องถิ่นเขตพระนคร</td>\n",
              "      <td>พระบรมมหาราชวัง</td>\n",
              "      <td>3346</td>\n",
              "      <td>1207</td>\n",
              "    </tr>\n",
              "    <tr>\n",
              "      <th>4</th>\n",
              "      <td>กรุงเทพมหานคร</td>\n",
              "      <td>ท้องถิ่นเขตพระนคร</td>\n",
              "      <td>วังบูรพาภิรมย์</td>\n",
              "      <td>9650</td>\n",
              "      <td>5363</td>\n",
              "    </tr>\n",
              "    <tr>\n",
              "      <th>5</th>\n",
              "      <td>กรุงเทพมหานคร</td>\n",
              "      <td>ท้องถิ่นเขตพระนคร</td>\n",
              "      <td>วัดราชบพิธ</td>\n",
              "      <td>3071</td>\n",
              "      <td>979</td>\n",
              "    </tr>\n",
              "    <tr>\n",
              "      <th>6</th>\n",
              "      <td>กรุงเทพมหานคร</td>\n",
              "      <td>ท้องถิ่นเขตพระนคร</td>\n",
              "      <td>สำราญราษฎร์</td>\n",
              "      <td>2940</td>\n",
              "      <td>1127</td>\n",
              "    </tr>\n",
              "    <tr>\n",
              "      <th>7</th>\n",
              "      <td>กรุงเทพมหานคร</td>\n",
              "      <td>ท้องถิ่นเขตพระนคร</td>\n",
              "      <td>ศาลเจ้าพ่อเสือ</td>\n",
              "      <td>2959</td>\n",
              "      <td>999</td>\n",
              "    </tr>\n",
              "  </tbody>\n",
              "</table>\n",
              "</div>"
            ],
            "text/plain": [
              "        province           district  ... population_63  household_63\n",
              "3  กรุงเทพมหานคร  ท้องถิ่นเขตพระนคร  ...          3346          1207\n",
              "4  กรุงเทพมหานคร  ท้องถิ่นเขตพระนคร  ...          9650          5363\n",
              "5  กรุงเทพมหานคร  ท้องถิ่นเขตพระนคร  ...          3071           979\n",
              "6  กรุงเทพมหานคร  ท้องถิ่นเขตพระนคร  ...          2940          1127\n",
              "7  กรุงเทพมหานคร  ท้องถิ่นเขตพระนคร  ...          2959           999\n",
              "\n",
              "[5 rows x 5 columns]"
            ]
          },
          "metadata": {
            "tags": []
          },
          "execution_count": 70
        }
      ]
    },
    {
      "cell_type": "code",
      "metadata": {
        "id": "Q8esZYpKZ5Eu"
      },
      "source": [
        "df_pop_cleaned.to_csv('/content/drive/MyDrive/ThaiME/ExternalData/clean_population_63.csv',index=False)"
      ],
      "execution_count": 6,
      "outputs": []
    },
    {
      "cell_type": "markdown",
      "metadata": {
        "id": "hNz3pFj0VkJC"
      },
      "source": [
        "# Thailand : Average Income by Province (2562)\r\n",
        "Link : http://statbbi.nso.go.th/staticreport/page/sector/th/02.aspx"
      ]
    },
    {
      "cell_type": "code",
      "metadata": {
        "colab": {
          "base_uri": "https://localhost:8080/",
          "height": 215
        },
        "id": "uAd3_k_tVtBi",
        "outputId": "ebfaf67e-2fc6-4d24-d4fe-1014dc857939"
      },
      "source": [
        "df_avg = pd.read_excel('/content/drive/MyDrive/ThaiME/ExternalData/avg_income_62.xlsx',\r\n",
        "                       skiprows=2)\r\n",
        "df_avg.head()"
      ],
      "execution_count": 7,
      "outputs": [
        {
          "output_type": "execute_result",
          "data": {
            "text/html": [
              "<div>\n",
              "<style scoped>\n",
              "    .dataframe tbody tr th:only-of-type {\n",
              "        vertical-align: middle;\n",
              "    }\n",
              "\n",
              "    .dataframe tbody tr th {\n",
              "        vertical-align: top;\n",
              "    }\n",
              "\n",
              "    .dataframe thead th {\n",
              "        text-align: right;\n",
              "    }\n",
              "</style>\n",
              "<table border=\"1\" class=\"dataframe\">\n",
              "  <thead>\n",
              "    <tr style=\"text-align: right;\">\n",
              "      <th></th>\n",
              "      <th>ภาค</th>\n",
              "      <th>จังหวัด</th>\n",
              "      <th>2545</th>\n",
              "      <th>2547</th>\n",
              "      <th>2549</th>\n",
              "      <th>2550</th>\n",
              "      <th>2552</th>\n",
              "      <th>2554</th>\n",
              "      <th>2556</th>\n",
              "      <th>2558</th>\n",
              "      <th>2560</th>\n",
              "      <th>2562</th>\n",
              "    </tr>\n",
              "  </thead>\n",
              "  <tbody>\n",
              "    <tr>\n",
              "      <th>0</th>\n",
              "      <td>ทั่วราชอาณาจักร</td>\n",
              "      <td>ทั่วราชอาณาจักร</td>\n",
              "      <td>13736.00</td>\n",
              "      <td>14963.40</td>\n",
              "      <td>17787.0</td>\n",
              "      <td>18660.0</td>\n",
              "      <td>20903.000000</td>\n",
              "      <td>23236.0</td>\n",
              "      <td>25194.0</td>\n",
              "      <td>26915.0</td>\n",
              "      <td>26946.43</td>\n",
              "      <td>26018.42</td>\n",
              "    </tr>\n",
              "    <tr>\n",
              "      <th>1</th>\n",
              "      <td>กรุงเทพมหานคร และ 3 จังหวัด</td>\n",
              "      <td>กรุงเทพมหานคร และ 3 จังหวัด</td>\n",
              "      <td>28238.66</td>\n",
              "      <td>28135.36</td>\n",
              "      <td>33088.0</td>\n",
              "      <td>35007.0</td>\n",
              "      <td>37732.000000</td>\n",
              "      <td>41631.0</td>\n",
              "      <td>43058.0</td>\n",
              "      <td>41002.0</td>\n",
              "      <td>41897.06</td>\n",
              "      <td>37750.96</td>\n",
              "    </tr>\n",
              "    <tr>\n",
              "      <th>2</th>\n",
              "      <td>NaN</td>\n",
              "      <td>กรุงเทพมหานคร</td>\n",
              "      <td>29589.08</td>\n",
              "      <td>29842.68</td>\n",
              "      <td>36658.0</td>\n",
              "      <td>39020.0</td>\n",
              "      <td>42379.830480</td>\n",
              "      <td>48951.0</td>\n",
              "      <td>49190.8</td>\n",
              "      <td>45571.7</td>\n",
              "      <td>45707.31</td>\n",
              "      <td>39459.36</td>\n",
              "    </tr>\n",
              "    <tr>\n",
              "      <th>3</th>\n",
              "      <td>NaN</td>\n",
              "      <td>สมุทรปราการ</td>\n",
              "      <td>19679.94</td>\n",
              "      <td>19946.54</td>\n",
              "      <td>20382.0</td>\n",
              "      <td>21302.0</td>\n",
              "      <td>23359.377965</td>\n",
              "      <td>23797.9</td>\n",
              "      <td>29575.3</td>\n",
              "      <td>25457.2</td>\n",
              "      <td>28711.77</td>\n",
              "      <td>24729.42</td>\n",
              "    </tr>\n",
              "    <tr>\n",
              "      <th>4</th>\n",
              "      <td>NaN</td>\n",
              "      <td>นนทบุรี</td>\n",
              "      <td>29119.13</td>\n",
              "      <td>26657.97</td>\n",
              "      <td>31152.0</td>\n",
              "      <td>32743.0</td>\n",
              "      <td>34626.276126</td>\n",
              "      <td>35119.7</td>\n",
              "      <td>30663.6</td>\n",
              "      <td>36884.0</td>\n",
              "      <td>40860.88</td>\n",
              "      <td>37502.22</td>\n",
              "    </tr>\n",
              "  </tbody>\n",
              "</table>\n",
              "</div>"
            ],
            "text/plain": [
              "                           ภาค                      จังหวัด  ...      2560      2562\n",
              "0              ทั่วราชอาณาจักร              ทั่วราชอาณาจักร  ...  26946.43  26018.42\n",
              "1  กรุงเทพมหานคร และ 3 จังหวัด  กรุงเทพมหานคร และ 3 จังหวัด  ...  41897.06  37750.96\n",
              "2                          NaN                กรุงเทพมหานคร  ...  45707.31  39459.36\n",
              "3                          NaN                  สมุทรปราการ  ...  28711.77  24729.42\n",
              "4                          NaN                      นนทบุรี  ...  40860.88  37502.22\n",
              "\n",
              "[5 rows x 12 columns]"
            ]
          },
          "metadata": {
            "tags": []
          },
          "execution_count": 7
        }
      ]
    },
    {
      "cell_type": "code",
      "metadata": {
        "colab": {
          "base_uri": "https://localhost:8080/",
          "height": 198
        },
        "id": "GtGxHtwBV3rB",
        "outputId": "8df08626-f44b-4d2c-87c2-49c789a85404"
      },
      "source": [
        "## ffill\r\n",
        "df_avg['ภาค'] = df_avg['ภาค'].fillna(method ='ffill')\r\n",
        "\r\n",
        "## drop source (last row)\r\n",
        "df_avg = df_avg.dropna(subset=['จังหวัด'])\r\n",
        "\r\n",
        "# drop sub-total\r\n",
        "# จังหวัด not in below_lst\r\n",
        "exclude_lst = ['ทั่วราชอาณาจักร',\r\n",
        "               'กรุงเทพมหานคร และ 3 จังหวัด',\r\n",
        "               'ภาคกลาง (ไม่รวม กทม. และ 3 จังหวัดรอบ กทม.)',\r\n",
        "               'ภาคเหนือ',\r\n",
        "               'ภาคตะวันออกเฉียงเหนือ',\r\n",
        "               'ภาคใต้']\r\n",
        "df_avg = df_avg[~df_avg['จังหวัด'].isin(exclude_lst)]\r\n",
        "\r\n",
        "# replace ['กรุงเทพมหานคร และ 3 จังหวัด', 'ภาคกลาง (ไม่รวม กทม. และ 3 จังหวัดรอบ กทม.)'] with ภาคกลาง\r\n",
        "df_avg['ภาค'] = df_avg['ภาค'].replace(['กรุงเทพมหานคร และ 3 จังหวัด', 'ภาคกลาง (ไม่รวม กทม. และ 3 จังหวัดรอบ กทม.)'], 'ภาคกลาง')\r\n",
        "\r\n",
        "# keep only year 2562\r\n",
        "df_avg_cleaned = df_avg[['ภาค','จังหวัด',2562]]\r\n",
        "\r\n",
        "# rename columns\r\n",
        "df_avg_cleaned.rename(columns = {'ภาค':'region',\r\n",
        "                                 'จังหวัด':'province',\r\n",
        "                                 2562:'avg_income_62'},\r\n",
        "                      inplace=True)\r\n",
        "\r\n",
        "df_avg_cleaned.head()"
      ],
      "execution_count": 8,
      "outputs": [
        {
          "output_type": "execute_result",
          "data": {
            "text/html": [
              "<div>\n",
              "<style scoped>\n",
              "    .dataframe tbody tr th:only-of-type {\n",
              "        vertical-align: middle;\n",
              "    }\n",
              "\n",
              "    .dataframe tbody tr th {\n",
              "        vertical-align: top;\n",
              "    }\n",
              "\n",
              "    .dataframe thead th {\n",
              "        text-align: right;\n",
              "    }\n",
              "</style>\n",
              "<table border=\"1\" class=\"dataframe\">\n",
              "  <thead>\n",
              "    <tr style=\"text-align: right;\">\n",
              "      <th></th>\n",
              "      <th>region</th>\n",
              "      <th>province</th>\n",
              "      <th>avg_income_62</th>\n",
              "    </tr>\n",
              "  </thead>\n",
              "  <tbody>\n",
              "    <tr>\n",
              "      <th>2</th>\n",
              "      <td>ภาคกลาง</td>\n",
              "      <td>กรุงเทพมหานคร</td>\n",
              "      <td>39459.36</td>\n",
              "    </tr>\n",
              "    <tr>\n",
              "      <th>3</th>\n",
              "      <td>ภาคกลาง</td>\n",
              "      <td>สมุทรปราการ</td>\n",
              "      <td>24729.42</td>\n",
              "    </tr>\n",
              "    <tr>\n",
              "      <th>4</th>\n",
              "      <td>ภาคกลาง</td>\n",
              "      <td>นนทบุรี</td>\n",
              "      <td>37502.22</td>\n",
              "    </tr>\n",
              "    <tr>\n",
              "      <th>5</th>\n",
              "      <td>ภาคกลาง</td>\n",
              "      <td>ปทุมธานี</td>\n",
              "      <td>46977.74</td>\n",
              "    </tr>\n",
              "    <tr>\n",
              "      <th>7</th>\n",
              "      <td>ภาคกลาง</td>\n",
              "      <td>พระนครศรีอยุธยา</td>\n",
              "      <td>30589.95</td>\n",
              "    </tr>\n",
              "  </tbody>\n",
              "</table>\n",
              "</div>"
            ],
            "text/plain": [
              "    region         province  avg_income_62\n",
              "2  ภาคกลาง    กรุงเทพมหานคร       39459.36\n",
              "3  ภาคกลาง      สมุทรปราการ       24729.42\n",
              "4  ภาคกลาง          นนทบุรี       37502.22\n",
              "5  ภาคกลาง         ปทุมธานี       46977.74\n",
              "7  ภาคกลาง  พระนครศรีอยุธยา       30589.95"
            ]
          },
          "metadata": {
            "tags": []
          },
          "execution_count": 8
        }
      ]
    },
    {
      "cell_type": "code",
      "metadata": {
        "id": "GzaSf9jKWSke"
      },
      "source": [
        "df_avg_cleaned.to_csv('/content/drive/MyDrive/ThaiME/ExternalData/clean_avg_income_62.csv', index=False)"
      ],
      "execution_count": 9,
      "outputs": []
    },
    {
      "cell_type": "markdown",
      "metadata": {
        "id": "g-hbv1RhcDdq"
      },
      "source": [
        "# Thailand : Labor Force by Province (2562)\r\n",
        "Link : http://statbbi.nso.go.th/staticreport/page/sector/th/02.aspx"
      ]
    },
    {
      "cell_type": "code",
      "metadata": {
        "colab": {
          "base_uri": "https://localhost:8080/",
          "height": 374
        },
        "id": "UYSyiQpYctmb",
        "outputId": "36d49201-2973-46dc-ccd4-17856b0b9834"
      },
      "source": [
        "df_labor = pd.read_excel('/content/drive/MyDrive/ThaiME/ExternalData/unemployment_62.xlsx',\r\n",
        "                         skiprows=4)\r\n",
        "df_labor.head()"
      ],
      "execution_count": 10,
      "outputs": [
        {
          "output_type": "execute_result",
          "data": {
            "text/html": [
              "<div>\n",
              "<style scoped>\n",
              "    .dataframe tbody tr th:only-of-type {\n",
              "        vertical-align: middle;\n",
              "    }\n",
              "\n",
              "    .dataframe tbody tr th {\n",
              "        vertical-align: top;\n",
              "    }\n",
              "\n",
              "    .dataframe thead th {\n",
              "        text-align: right;\n",
              "    }\n",
              "</style>\n",
              "<table border=\"1\" class=\"dataframe\">\n",
              "  <thead>\n",
              "    <tr style=\"text-align: right;\">\n",
              "      <th></th>\n",
              "      <th>Unnamed: 0</th>\n",
              "      <th>Unnamed: 1</th>\n",
              "      <th>Unnamed: 2</th>\n",
              "      <th>Unnamed: 3</th>\n",
              "      <th>Unnamed: 4</th>\n",
              "      <th>ไตรมาสที่ 1</th>\n",
              "      <th>Unnamed: 6</th>\n",
              "      <th>Unnamed: 7</th>\n",
              "      <th>ไตรมาสที่ 2</th>\n",
              "      <th>Unnamed: 9</th>\n",
              "      <th>Unnamed: 10</th>\n",
              "      <th>ไตรมาสที่ 3</th>\n",
              "      <th>Unnamed: 12</th>\n",
              "      <th>Unnamed: 13</th>\n",
              "      <th>ไตรมาสที่ 4</th>\n",
              "      <th>Unnamed: 15</th>\n",
              "      <th>Unnamed: 16</th>\n",
              "      <th>เฉลี่ยทั้งปี</th>\n",
              "      <th>Unnamed: 18</th>\n",
              "      <th>Unnamed: 19</th>\n",
              "    </tr>\n",
              "  </thead>\n",
              "  <tbody>\n",
              "    <tr>\n",
              "      <th>0</th>\n",
              "      <td>ภาค</td>\n",
              "      <td>จังหวัด</td>\n",
              "      <td>สถานภาพแรงงาน</td>\n",
              "      <td>กำลังคน</td>\n",
              "      <td>กำลังแรงงานปัจจุบัน</td>\n",
              "      <td>รวม</td>\n",
              "      <td>ชาย</td>\n",
              "      <td>หญิง</td>\n",
              "      <td>รวม</td>\n",
              "      <td>ชาย</td>\n",
              "      <td>หญิง</td>\n",
              "      <td>รวม</td>\n",
              "      <td>ชาย</td>\n",
              "      <td>หญิง</td>\n",
              "      <td>รวม</td>\n",
              "      <td>ชาย</td>\n",
              "      <td>หญิง</td>\n",
              "      <td>รวม</td>\n",
              "      <td>ชาย</td>\n",
              "      <td>หญิง</td>\n",
              "    </tr>\n",
              "    <tr>\n",
              "      <th>1</th>\n",
              "      <td>ทั่วราชอาณาจักร</td>\n",
              "      <td>ทั่วราชอาณาจักร</td>\n",
              "      <td>ประชากรอายุ 15 ปีขึ้นไป</td>\n",
              "      <td>NaN</td>\n",
              "      <td>NaN</td>\n",
              "      <td>5.64652e+07</td>\n",
              "      <td>2.72529e+07</td>\n",
              "      <td>29212239</td>\n",
              "      <td>56541221</td>\n",
              "      <td>2.72859e+07</td>\n",
              "      <td>2.92553e+07</td>\n",
              "      <td>5.66157e+07</td>\n",
              "      <td>2.7319e+07</td>\n",
              "      <td>29296725</td>\n",
              "      <td>5.66789e+07</td>\n",
              "      <td>27346596</td>\n",
              "      <td>2.93323e+07</td>\n",
              "      <td>5.65753e+07</td>\n",
              "      <td>2.73011e+07</td>\n",
              "      <td>2.92742e+07</td>\n",
              "    </tr>\n",
              "    <tr>\n",
              "      <th>2</th>\n",
              "      <td>NaN</td>\n",
              "      <td>NaN</td>\n",
              "      <td>กำลังแรงงานรวม</td>\n",
              "      <td>NaN</td>\n",
              "      <td>NaN</td>\n",
              "      <td>3.83652e+07</td>\n",
              "      <td>2.08068e+07</td>\n",
              "      <td>1.75583e+07</td>\n",
              "      <td>3.84201e+07</td>\n",
              "      <td>2.0916e+07</td>\n",
              "      <td>1.75041e+07</td>\n",
              "      <td>3.79587e+07</td>\n",
              "      <td>2.07509e+07</td>\n",
              "      <td>1.72078e+07</td>\n",
              "      <td>3.79682e+07</td>\n",
              "      <td>2.07063e+07</td>\n",
              "      <td>1.72619e+07</td>\n",
              "      <td>3.8178e+07</td>\n",
              "      <td>2.0795e+07</td>\n",
              "      <td>1.7383e+07</td>\n",
              "    </tr>\n",
              "    <tr>\n",
              "      <th>3</th>\n",
              "      <td>NaN</td>\n",
              "      <td>NaN</td>\n",
              "      <td>NaN</td>\n",
              "      <td>กำลังแรงงานปัจจุบัน</td>\n",
              "      <td>NaN</td>\n",
              "      <td>3.80539e+07</td>\n",
              "      <td>2.06293e+07</td>\n",
              "      <td>1.74246e+07</td>\n",
              "      <td>3.81587e+07</td>\n",
              "      <td>2.07652e+07</td>\n",
              "      <td>1.73935e+07</td>\n",
              "      <td>3.78804e+07</td>\n",
              "      <td>2.06935e+07</td>\n",
              "      <td>1.71868e+07</td>\n",
              "      <td>3.78544e+07</td>\n",
              "      <td>2.0627e+07</td>\n",
              "      <td>1.72274e+07</td>\n",
              "      <td>3.79868e+07</td>\n",
              "      <td>2.06787e+07</td>\n",
              "      <td>1.73081e+07</td>\n",
              "    </tr>\n",
              "    <tr>\n",
              "      <th>4</th>\n",
              "      <td>NaN</td>\n",
              "      <td>NaN</td>\n",
              "      <td>NaN</td>\n",
              "      <td>NaN</td>\n",
              "      <td>ผู้มีงานทำ</td>\n",
              "      <td>3.77027e+07</td>\n",
              "      <td>2.04288e+07</td>\n",
              "      <td>1.72739e+07</td>\n",
              "      <td>3.77818e+07</td>\n",
              "      <td>2.05609e+07</td>\n",
              "      <td>1.72209e+07</td>\n",
              "      <td>3.74863e+07</td>\n",
              "      <td>2.04675e+07</td>\n",
              "      <td>1.70188e+07</td>\n",
              "      <td>3.74829e+07</td>\n",
              "      <td>2.04082e+07</td>\n",
              "      <td>1.70747e+07</td>\n",
              "      <td>3.76134e+07</td>\n",
              "      <td>2.04664e+07</td>\n",
              "      <td>1.71471e+07</td>\n",
              "    </tr>\n",
              "  </tbody>\n",
              "</table>\n",
              "</div>"
            ],
            "text/plain": [
              "        Unnamed: 0       Unnamed: 1  ...  Unnamed: 18  Unnamed: 19\n",
              "0              ภาค          จังหวัด  ...          ชาย         หญิง\n",
              "1  ทั่วราชอาณาจักร  ทั่วราชอาณาจักร  ...  2.73011e+07  2.92742e+07\n",
              "2              NaN              NaN  ...   2.0795e+07   1.7383e+07\n",
              "3              NaN              NaN  ...  2.06787e+07  1.73081e+07\n",
              "4              NaN              NaN  ...  2.04664e+07  1.71471e+07\n",
              "\n",
              "[5 rows x 20 columns]"
            ]
          },
          "metadata": {
            "tags": []
          },
          "execution_count": 10
        }
      ]
    },
    {
      "cell_type": "code",
      "metadata": {
        "colab": {
          "base_uri": "https://localhost:8080/"
        },
        "id": "GNNhFAaYc4c9",
        "outputId": "716722bb-b450-4643-bdf1-79d52e87e7a5"
      },
      "source": [
        "df_labor_clean_col = df_labor.loc[0,:].reset_index()\r\n",
        "labor_new_col = df_labor_clean_col.apply(lambda x: x['index']+'_'+x[0] if 'Unnamed' not in x['index'] else x[0], axis=1)\r\n",
        "labor_new_col"
      ],
      "execution_count": 11,
      "outputs": [
        {
          "output_type": "execute_result",
          "data": {
            "text/plain": [
              "0                     ภาค\n",
              "1                 จังหวัด\n",
              "2           สถานภาพแรงงาน\n",
              "3                 กำลังคน\n",
              "4     กำลังแรงงานปัจจุบัน\n",
              "5         ไตรมาสที่ 1_รวม\n",
              "6                     ชาย\n",
              "7                    หญิง\n",
              "8         ไตรมาสที่ 2_รวม\n",
              "9                     ชาย\n",
              "10                   หญิง\n",
              "11        ไตรมาสที่ 3_รวม\n",
              "12                    ชาย\n",
              "13                   หญิง\n",
              "14        ไตรมาสที่ 4_รวม\n",
              "15                    ชาย\n",
              "16                   หญิง\n",
              "17       เฉลี่ยทั้งปี_รวม\n",
              "18                    ชาย\n",
              "19                   หญิง\n",
              "dtype: object"
            ]
          },
          "metadata": {
            "tags": []
          },
          "execution_count": 11
        }
      ]
    },
    {
      "cell_type": "code",
      "metadata": {
        "colab": {
          "base_uri": "https://localhost:8080/",
          "height": 391
        },
        "id": "fOpiu9eAdsms",
        "outputId": "0499a79c-faa4-4e64-aef1-6536a18b858a"
      },
      "source": [
        "# assign new column\r\n",
        "df_labor.columns = labor_new_col \r\n",
        "\r\n",
        "# ignore first row\r\n",
        "df_lober = df_labor.loc[1:,:]\r\n",
        "df_lober.head()"
      ],
      "execution_count": 12,
      "outputs": [
        {
          "output_type": "execute_result",
          "data": {
            "text/html": [
              "<div>\n",
              "<style scoped>\n",
              "    .dataframe tbody tr th:only-of-type {\n",
              "        vertical-align: middle;\n",
              "    }\n",
              "\n",
              "    .dataframe tbody tr th {\n",
              "        vertical-align: top;\n",
              "    }\n",
              "\n",
              "    .dataframe thead th {\n",
              "        text-align: right;\n",
              "    }\n",
              "</style>\n",
              "<table border=\"1\" class=\"dataframe\">\n",
              "  <thead>\n",
              "    <tr style=\"text-align: right;\">\n",
              "      <th></th>\n",
              "      <th>ภาค</th>\n",
              "      <th>จังหวัด</th>\n",
              "      <th>สถานภาพแรงงาน</th>\n",
              "      <th>กำลังคน</th>\n",
              "      <th>กำลังแรงงานปัจจุบัน</th>\n",
              "      <th>ไตรมาสที่ 1_รวม</th>\n",
              "      <th>ชาย</th>\n",
              "      <th>หญิง</th>\n",
              "      <th>ไตรมาสที่ 2_รวม</th>\n",
              "      <th>ชาย</th>\n",
              "      <th>หญิง</th>\n",
              "      <th>ไตรมาสที่ 3_รวม</th>\n",
              "      <th>ชาย</th>\n",
              "      <th>หญิง</th>\n",
              "      <th>ไตรมาสที่ 4_รวม</th>\n",
              "      <th>ชาย</th>\n",
              "      <th>หญิง</th>\n",
              "      <th>เฉลี่ยทั้งปี_รวม</th>\n",
              "      <th>ชาย</th>\n",
              "      <th>หญิง</th>\n",
              "    </tr>\n",
              "  </thead>\n",
              "  <tbody>\n",
              "    <tr>\n",
              "      <th>1</th>\n",
              "      <td>ทั่วราชอาณาจักร</td>\n",
              "      <td>ทั่วราชอาณาจักร</td>\n",
              "      <td>ประชากรอายุ 15 ปีขึ้นไป</td>\n",
              "      <td>NaN</td>\n",
              "      <td>NaN</td>\n",
              "      <td>5.64652e+07</td>\n",
              "      <td>2.72529e+07</td>\n",
              "      <td>29212239</td>\n",
              "      <td>56541221</td>\n",
              "      <td>2.72859e+07</td>\n",
              "      <td>2.92553e+07</td>\n",
              "      <td>5.66157e+07</td>\n",
              "      <td>2.7319e+07</td>\n",
              "      <td>29296725</td>\n",
              "      <td>5.66789e+07</td>\n",
              "      <td>27346596</td>\n",
              "      <td>2.93323e+07</td>\n",
              "      <td>5.65753e+07</td>\n",
              "      <td>2.73011e+07</td>\n",
              "      <td>2.92742e+07</td>\n",
              "    </tr>\n",
              "    <tr>\n",
              "      <th>2</th>\n",
              "      <td>NaN</td>\n",
              "      <td>NaN</td>\n",
              "      <td>กำลังแรงงานรวม</td>\n",
              "      <td>NaN</td>\n",
              "      <td>NaN</td>\n",
              "      <td>3.83652e+07</td>\n",
              "      <td>2.08068e+07</td>\n",
              "      <td>1.75583e+07</td>\n",
              "      <td>3.84201e+07</td>\n",
              "      <td>2.0916e+07</td>\n",
              "      <td>1.75041e+07</td>\n",
              "      <td>3.79587e+07</td>\n",
              "      <td>2.07509e+07</td>\n",
              "      <td>1.72078e+07</td>\n",
              "      <td>3.79682e+07</td>\n",
              "      <td>2.07063e+07</td>\n",
              "      <td>1.72619e+07</td>\n",
              "      <td>3.8178e+07</td>\n",
              "      <td>2.0795e+07</td>\n",
              "      <td>1.7383e+07</td>\n",
              "    </tr>\n",
              "    <tr>\n",
              "      <th>3</th>\n",
              "      <td>NaN</td>\n",
              "      <td>NaN</td>\n",
              "      <td>NaN</td>\n",
              "      <td>กำลังแรงงานปัจจุบัน</td>\n",
              "      <td>NaN</td>\n",
              "      <td>3.80539e+07</td>\n",
              "      <td>2.06293e+07</td>\n",
              "      <td>1.74246e+07</td>\n",
              "      <td>3.81587e+07</td>\n",
              "      <td>2.07652e+07</td>\n",
              "      <td>1.73935e+07</td>\n",
              "      <td>3.78804e+07</td>\n",
              "      <td>2.06935e+07</td>\n",
              "      <td>1.71868e+07</td>\n",
              "      <td>3.78544e+07</td>\n",
              "      <td>2.0627e+07</td>\n",
              "      <td>1.72274e+07</td>\n",
              "      <td>3.79868e+07</td>\n",
              "      <td>2.06787e+07</td>\n",
              "      <td>1.73081e+07</td>\n",
              "    </tr>\n",
              "    <tr>\n",
              "      <th>4</th>\n",
              "      <td>NaN</td>\n",
              "      <td>NaN</td>\n",
              "      <td>NaN</td>\n",
              "      <td>NaN</td>\n",
              "      <td>ผู้มีงานทำ</td>\n",
              "      <td>3.77027e+07</td>\n",
              "      <td>2.04288e+07</td>\n",
              "      <td>1.72739e+07</td>\n",
              "      <td>3.77818e+07</td>\n",
              "      <td>2.05609e+07</td>\n",
              "      <td>1.72209e+07</td>\n",
              "      <td>3.74863e+07</td>\n",
              "      <td>2.04675e+07</td>\n",
              "      <td>1.70188e+07</td>\n",
              "      <td>3.74829e+07</td>\n",
              "      <td>2.04082e+07</td>\n",
              "      <td>1.70747e+07</td>\n",
              "      <td>3.76134e+07</td>\n",
              "      <td>2.04664e+07</td>\n",
              "      <td>1.71471e+07</td>\n",
              "    </tr>\n",
              "    <tr>\n",
              "      <th>5</th>\n",
              "      <td>NaN</td>\n",
              "      <td>NaN</td>\n",
              "      <td>NaN</td>\n",
              "      <td>NaN</td>\n",
              "      <td>ผู้ว่างงาน</td>\n",
              "      <td>351157</td>\n",
              "      <td>200437</td>\n",
              "      <td>150720</td>\n",
              "      <td>376926</td>\n",
              "      <td>204338</td>\n",
              "      <td>172589</td>\n",
              "      <td>394026</td>\n",
              "      <td>226018</td>\n",
              "      <td>168008</td>\n",
              "      <td>371477</td>\n",
              "      <td>218742</td>\n",
              "      <td>152735</td>\n",
              "      <td>373396</td>\n",
              "      <td>212384</td>\n",
              "      <td>161013</td>\n",
              "    </tr>\n",
              "  </tbody>\n",
              "</table>\n",
              "</div>"
            ],
            "text/plain": [
              "               ภาค          จังหวัด  ...          ชาย         หญิง\n",
              "1  ทั่วราชอาณาจักร  ทั่วราชอาณาจักร  ...  2.73011e+07  2.92742e+07\n",
              "2              NaN              NaN  ...   2.0795e+07   1.7383e+07\n",
              "3              NaN              NaN  ...  2.06787e+07  1.73081e+07\n",
              "4              NaN              NaN  ...  2.04664e+07  1.71471e+07\n",
              "5              NaN              NaN  ...       212384       161013\n",
              "\n",
              "[5 rows x 20 columns]"
            ]
          },
          "metadata": {
            "tags": []
          },
          "execution_count": 12
        }
      ]
    },
    {
      "cell_type": "code",
      "metadata": {
        "id": "-JpOhXmaeWA8"
      },
      "source": [
        "# forward fill missing data\r\n",
        "df_labor['จังหวัด'] = df_labor['จังหวัด'].fillna(method='ffill')\r\n",
        "\r\n",
        "# select only ['ผู้มีงานทำ', 'ผู้ว่างงาน']\r\n",
        "df_labor = df_labor[df_labor['กำลังแรงงานปัจจุบัน'].isin(['ผู้มีงานทำ', 'ผู้ว่างงาน'])]\r\n",
        "\r\n",
        "# select column in list\r\n",
        "col = ['จังหวัด','กำลังแรงงานปัจจุบัน', 'ไตรมาสที่ 4_รวม']\r\n",
        "df_labor_cleaned = df_labor[col]"
      ],
      "execution_count": 13,
      "outputs": []
    },
    {
      "cell_type": "code",
      "metadata": {
        "colab": {
          "base_uri": "https://localhost:8080/",
          "height": 198
        },
        "id": "Yqg9fFGofUP9",
        "outputId": "88a990b5-9c39-4f41-e6e5-c01c763998f1"
      },
      "source": [
        "# change data type\r\n",
        "df_labor_cleaned['ไตรมาสที่ 4_รวม'] = df_labor_cleaned['ไตรมาสที่ 4_รวม'].astype(float)\r\n",
        "\r\n",
        "# ignore sub total\r\n",
        "lst_sub_total = ['ทั่วราชอาณาจักร', 'ภาคกลาง', 'ภาคตะวันออกเฉียงเหนือ', 'ภาคเหนือ', 'ภาคใต้']\r\n",
        "df_labor_cleaned = df_labor_cleaned[~df_labor_cleaned['จังหวัด'].isin(lst_sub_total)]\r\n",
        "\r\n",
        "# create singleview\r\n",
        "\r\n",
        "df_labor_cleaned_pv = df_labor_cleaned.pivot_table(index='จังหวัด', columns = 'กำลังแรงงานปัจจุบัน', values = 'ไตรมาสที่ 4_รวม', aggfunc='sum').reset_index()\r\n",
        "df_labor_cleaned_pv.columns = ['province', 'employ_62', 'unemploy_62']\r\n",
        "df_labor_cleaned_pv.head()"
      ],
      "execution_count": 14,
      "outputs": [
        {
          "output_type": "execute_result",
          "data": {
            "text/html": [
              "<div>\n",
              "<style scoped>\n",
              "    .dataframe tbody tr th:only-of-type {\n",
              "        vertical-align: middle;\n",
              "    }\n",
              "\n",
              "    .dataframe tbody tr th {\n",
              "        vertical-align: top;\n",
              "    }\n",
              "\n",
              "    .dataframe thead th {\n",
              "        text-align: right;\n",
              "    }\n",
              "</style>\n",
              "<table border=\"1\" class=\"dataframe\">\n",
              "  <thead>\n",
              "    <tr style=\"text-align: right;\">\n",
              "      <th></th>\n",
              "      <th>province</th>\n",
              "      <th>employ_62</th>\n",
              "      <th>unemploy_62</th>\n",
              "    </tr>\n",
              "  </thead>\n",
              "  <tbody>\n",
              "    <tr>\n",
              "      <th>0</th>\n",
              "      <td>กระบี่</td>\n",
              "      <td>212865.74</td>\n",
              "      <td>3648.87</td>\n",
              "    </tr>\n",
              "    <tr>\n",
              "      <th>1</th>\n",
              "      <td>กรุงเทพมหานคร</td>\n",
              "      <td>5264292.95</td>\n",
              "      <td>32313.31</td>\n",
              "    </tr>\n",
              "    <tr>\n",
              "      <th>2</th>\n",
              "      <td>กาญจนบุรี</td>\n",
              "      <td>463672.98</td>\n",
              "      <td>1885.19</td>\n",
              "    </tr>\n",
              "    <tr>\n",
              "      <th>3</th>\n",
              "      <td>กาฬสินธุ์</td>\n",
              "      <td>409106.41</td>\n",
              "      <td>321.65</td>\n",
              "    </tr>\n",
              "    <tr>\n",
              "      <th>4</th>\n",
              "      <td>กำแพงเพชร</td>\n",
              "      <td>405775.09</td>\n",
              "      <td>5842.89</td>\n",
              "    </tr>\n",
              "  </tbody>\n",
              "</table>\n",
              "</div>"
            ],
            "text/plain": [
              "        province   employ_62  unemploy_62\n",
              "0         กระบี่   212865.74      3648.87\n",
              "1  กรุงเทพมหานคร  5264292.95     32313.31\n",
              "2      กาญจนบุรี   463672.98      1885.19\n",
              "3      กาฬสินธุ์   409106.41       321.65\n",
              "4      กำแพงเพชร   405775.09      5842.89"
            ]
          },
          "metadata": {
            "tags": []
          },
          "execution_count": 14
        }
      ]
    },
    {
      "cell_type": "code",
      "metadata": {
        "id": "Ccid8qk6hev1"
      },
      "source": [
        "df_labor_cleaned_pv.to_csv('/content/drive/MyDrive/ThaiME/ExternalData/clean_labor_force_62.csv', index=False)"
      ],
      "execution_count": 15,
      "outputs": []
    },
    {
      "cell_type": "code",
      "metadata": {
        "id": "WivReCi-h2RS"
      },
      "source": [
        ""
      ],
      "execution_count": 15,
      "outputs": []
    },
    {
      "cell_type": "markdown",
      "metadata": {
        "id": "3x3hHR1NjvPs"
      },
      "source": [
        "# Thailand : Poor People by Province (2562)\r\n",
        "Link : http://statbbi.nso.go.th/staticreport/page/sector/th/08.aspx"
      ]
    },
    {
      "cell_type": "code",
      "metadata": {
        "colab": {
          "base_uri": "https://localhost:8080/",
          "height": 233
        },
        "id": "EC-OKQtqjzbk",
        "outputId": "418deff6-9549-46e9-99e9-1aba5bddac63"
      },
      "source": [
        "# unit = 1k\r\n",
        "df_poor = pd.read_excel('/content/drive/MyDrive/ThaiME/ExternalData/poor_people_62.xlsx',\r\n",
        "                        skiprows=3)\r\n",
        "df_poor.head()"
      ],
      "execution_count": 16,
      "outputs": [
        {
          "output_type": "execute_result",
          "data": {
            "text/html": [
              "<div>\n",
              "<style scoped>\n",
              "    .dataframe tbody tr th:only-of-type {\n",
              "        vertical-align: middle;\n",
              "    }\n",
              "\n",
              "    .dataframe tbody tr th {\n",
              "        vertical-align: top;\n",
              "    }\n",
              "\n",
              "    .dataframe thead th {\n",
              "        text-align: right;\n",
              "    }\n",
              "</style>\n",
              "<table border=\"1\" class=\"dataframe\">\n",
              "  <thead>\n",
              "    <tr style=\"text-align: right;\">\n",
              "      <th></th>\n",
              "      <th>ภาค</th>\n",
              "      <th>จังหวัด</th>\n",
              "      <th>2553</th>\n",
              "      <th>2554</th>\n",
              "      <th>2555</th>\n",
              "      <th>2556</th>\n",
              "      <th>2557</th>\n",
              "      <th>2558</th>\n",
              "      <th>2559</th>\n",
              "      <th>2560</th>\n",
              "      <th>2561</th>\n",
              "      <th>2562</th>\n",
              "      <th>Unnamed: 12</th>\n",
              "    </tr>\n",
              "  </thead>\n",
              "  <tbody>\n",
              "    <tr>\n",
              "      <th>0</th>\n",
              "      <td>ทั่วราชอาณาจักร</td>\n",
              "      <td>ทั่วราชอาณาจักร</td>\n",
              "      <td>10800.728130</td>\n",
              "      <td>8751.881803</td>\n",
              "      <td>8402.075638</td>\n",
              "      <td>7305.1</td>\n",
              "      <td>7057.4</td>\n",
              "      <td>4847.2</td>\n",
              "      <td>5810.1</td>\n",
              "      <td>5324.8</td>\n",
              "      <td>6682.5</td>\n",
              "      <td>4326.152000</td>\n",
              "      <td>NaN</td>\n",
              "    </tr>\n",
              "    <tr>\n",
              "      <th>1</th>\n",
              "      <td>กรุงเทพมหานคร</td>\n",
              "      <td>กรุงเทพมหานคร</td>\n",
              "      <td>186.659136</td>\n",
              "      <td>647.923425</td>\n",
              "      <td>161.460953</td>\n",
              "      <td>90.4</td>\n",
              "      <td>140.6</td>\n",
              "      <td>173.7</td>\n",
              "      <td>118.0</td>\n",
              "      <td>98.3</td>\n",
              "      <td>123.6</td>\n",
              "      <td>52.907190</td>\n",
              "      <td>NaN</td>\n",
              "    </tr>\n",
              "    <tr>\n",
              "      <th>2</th>\n",
              "      <td>ภาคกลาง</td>\n",
              "      <td>ภาคกลาง</td>\n",
              "      <td>1957.854996</td>\n",
              "      <td>1905.133996</td>\n",
              "      <td>1291.522012</td>\n",
              "      <td>1014.9</td>\n",
              "      <td>941.5</td>\n",
              "      <td>827.3</td>\n",
              "      <td>1010.4</td>\n",
              "      <td>884.0</td>\n",
              "      <td>1374.9</td>\n",
              "      <td>883.013500</td>\n",
              "      <td>NaN</td>\n",
              "    </tr>\n",
              "    <tr>\n",
              "      <th>3</th>\n",
              "      <td>NaN</td>\n",
              "      <td>สมุทรปราการ</td>\n",
              "      <td>27.711701</td>\n",
              "      <td>34.647418</td>\n",
              "      <td>16.811365</td>\n",
              "      <td>20.1</td>\n",
              "      <td>20.2</td>\n",
              "      <td>7.5</td>\n",
              "      <td>6.0</td>\n",
              "      <td>0.8</td>\n",
              "      <td>7.0</td>\n",
              "      <td>12.429620</td>\n",
              "      <td>NaN</td>\n",
              "    </tr>\n",
              "    <tr>\n",
              "      <th>4</th>\n",
              "      <td>NaN</td>\n",
              "      <td>นนทบุรี</td>\n",
              "      <td>17.792057</td>\n",
              "      <td>16.387578</td>\n",
              "      <td>9.113487</td>\n",
              "      <td>11.9</td>\n",
              "      <td>2.8</td>\n",
              "      <td>9.2</td>\n",
              "      <td>10.6</td>\n",
              "      <td>11.5</td>\n",
              "      <td>11.8</td>\n",
              "      <td>4.201143</td>\n",
              "      <td>NaN</td>\n",
              "    </tr>\n",
              "  </tbody>\n",
              "</table>\n",
              "</div>"
            ],
            "text/plain": [
              "               ภาค          จังหวัด  ...         2562  Unnamed: 12\n",
              "0  ทั่วราชอาณาจักร  ทั่วราชอาณาจักร  ...  4326.152000          NaN\n",
              "1    กรุงเทพมหานคร    กรุงเทพมหานคร  ...    52.907190          NaN\n",
              "2          ภาคกลาง          ภาคกลาง  ...   883.013500          NaN\n",
              "3              NaN      สมุทรปราการ  ...    12.429620          NaN\n",
              "4              NaN          นนทบุรี  ...     4.201143          NaN\n",
              "\n",
              "[5 rows x 13 columns]"
            ]
          },
          "metadata": {
            "tags": []
          },
          "execution_count": 16
        }
      ]
    },
    {
      "cell_type": "code",
      "metadata": {
        "colab": {
          "base_uri": "https://localhost:8080/",
          "height": 198
        },
        "id": "lcQ-YA4Lkq4-",
        "outputId": "2f636392-d666-417b-f1d0-66458066043f"
      },
      "source": [
        "# select columns\r\n",
        "col = ['จังหวัด',2562]\r\n",
        "df_poor = df_poor[col]\r\n",
        "\r\n",
        "# drop null values in จังหวัด \r\n",
        "df_poor.dropna(subset=['จังหวัด'], inplace=True)\r\n",
        "\r\n",
        "# ignore sub total\r\n",
        "lst_sub_total = ['ทั่วราชอาณาจักร', 'ภาคกลาง', 'ภาคตะวันออกเฉียงเหนือ', 'ภาคเหนือ', 'ภาคใต้']\r\n",
        "df_poor_cleaned = df_poor[~df_poor['จังหวัด'].isin(lst_sub_total)]\r\n",
        "\r\n",
        "# rescale and store in poor_people_62 \r\n",
        "df_poor_cleaned['poor_people_62'] = df_poor_cleaned[2562] * 1000\r\n",
        "\r\n",
        "# rename column\r\n",
        "df_poor_cleaned.rename(columns={'จังหวัด':'province'}, inplace=True)\r\n",
        "\r\n",
        "# drop unneeded column\r\n",
        "df_poor_cleaned.drop(columns=2562, inplace=True)\r\n",
        "\r\n",
        "df_poor_cleaned.head()"
      ],
      "execution_count": 17,
      "outputs": [
        {
          "output_type": "execute_result",
          "data": {
            "text/html": [
              "<div>\n",
              "<style scoped>\n",
              "    .dataframe tbody tr th:only-of-type {\n",
              "        vertical-align: middle;\n",
              "    }\n",
              "\n",
              "    .dataframe tbody tr th {\n",
              "        vertical-align: top;\n",
              "    }\n",
              "\n",
              "    .dataframe thead th {\n",
              "        text-align: right;\n",
              "    }\n",
              "</style>\n",
              "<table border=\"1\" class=\"dataframe\">\n",
              "  <thead>\n",
              "    <tr style=\"text-align: right;\">\n",
              "      <th></th>\n",
              "      <th>province</th>\n",
              "      <th>poor_people_62</th>\n",
              "    </tr>\n",
              "  </thead>\n",
              "  <tbody>\n",
              "    <tr>\n",
              "      <th>1</th>\n",
              "      <td>กรุงเทพมหานคร</td>\n",
              "      <td>52907.190</td>\n",
              "    </tr>\n",
              "    <tr>\n",
              "      <th>3</th>\n",
              "      <td>สมุทรปราการ</td>\n",
              "      <td>12429.620</td>\n",
              "    </tr>\n",
              "    <tr>\n",
              "      <th>4</th>\n",
              "      <td>นนทบุรี</td>\n",
              "      <td>4201.143</td>\n",
              "    </tr>\n",
              "    <tr>\n",
              "      <th>5</th>\n",
              "      <td>ปทุมธานี</td>\n",
              "      <td>4253.961</td>\n",
              "    </tr>\n",
              "    <tr>\n",
              "      <th>6</th>\n",
              "      <td>พระนครศรีอยุธยา</td>\n",
              "      <td>19946.500</td>\n",
              "    </tr>\n",
              "  </tbody>\n",
              "</table>\n",
              "</div>"
            ],
            "text/plain": [
              "          province  poor_people_62\n",
              "1    กรุงเทพมหานคร       52907.190\n",
              "3      สมุทรปราการ       12429.620\n",
              "4          นนทบุรี        4201.143\n",
              "5         ปทุมธานี        4253.961\n",
              "6  พระนครศรีอยุธยา       19946.500"
            ]
          },
          "metadata": {
            "tags": []
          },
          "execution_count": 17
        }
      ]
    },
    {
      "cell_type": "code",
      "metadata": {
        "id": "FXCdGag_lEIw"
      },
      "source": [
        "df_poor_cleaned.to_csv('/content/drive/MyDrive/ThaiME/ExternalData/clean_poor_people.csv', index=False)"
      ],
      "execution_count": 18,
      "outputs": []
    },
    {
      "cell_type": "markdown",
      "metadata": {
        "id": "Emk07do-nf5d"
      },
      "source": [
        "# Merge 3 dfs Together\r\n",
        "## df_avg_cleaned, df_labor_cleaned_pv, df_poor_cleaned (province lv)"
      ]
    },
    {
      "cell_type": "code",
      "metadata": {
        "colab": {
          "base_uri": "https://localhost:8080/"
        },
        "id": "K-oKWKL7nkqu",
        "outputId": "1bedc3d2-6330-4670-b20f-cd28c6208cd3"
      },
      "source": [
        "# merge df_avg_cleaned, df_labor_cleaned_pv, df_poor_cleaned\r\n",
        "df_province_char = df_pop_cleaned.merge(df_avg_cleaned, how='outer', on='province')\r\n",
        "df_province_char = df_province_char.merge(df_labor_cleaned_pv, how='outer', on='province')\r\n",
        "df_province_char = df_province_char.merge(df_poor_cleaned, how='outer', on='province')\r\n",
        "df_province_char = df_province_char[['region','province', 'district', 'subdistrict', 'population_63', 'household_63',\r\n",
        "                                     'avg_income_62', 'employ_62', 'unemploy_62','poor_people_62']]\r\n",
        "df_province_char.isnull().sum()"
      ],
      "execution_count": 96,
      "outputs": [
        {
          "output_type": "execute_result",
          "data": {
            "text/plain": [
              "region            0\n",
              "province          0\n",
              "district          0\n",
              "subdistrict       0\n",
              "population_63     0\n",
              "household_63      0\n",
              "avg_income_62     0\n",
              "employ_62         0\n",
              "unemploy_62       0\n",
              "poor_people_62    0\n",
              "dtype: int64"
            ]
          },
          "metadata": {
            "tags": []
          },
          "execution_count": 96
        }
      ]
    },
    {
      "cell_type": "code",
      "metadata": {
        "colab": {
          "base_uri": "https://localhost:8080/",
          "height": 285
        },
        "id": "DJK9jt_1EGhY",
        "outputId": "50a9a9a3-538d-4a0c-f1d1-c92919f50da2"
      },
      "source": [
        "df_province_char.head()"
      ],
      "execution_count": 97,
      "outputs": [
        {
          "output_type": "execute_result",
          "data": {
            "text/html": [
              "<div>\n",
              "<style scoped>\n",
              "    .dataframe tbody tr th:only-of-type {\n",
              "        vertical-align: middle;\n",
              "    }\n",
              "\n",
              "    .dataframe tbody tr th {\n",
              "        vertical-align: top;\n",
              "    }\n",
              "\n",
              "    .dataframe thead th {\n",
              "        text-align: right;\n",
              "    }\n",
              "</style>\n",
              "<table border=\"1\" class=\"dataframe\">\n",
              "  <thead>\n",
              "    <tr style=\"text-align: right;\">\n",
              "      <th></th>\n",
              "      <th>region</th>\n",
              "      <th>province</th>\n",
              "      <th>district</th>\n",
              "      <th>subdistrict</th>\n",
              "      <th>population_63</th>\n",
              "      <th>household_63</th>\n",
              "      <th>avg_income_62</th>\n",
              "      <th>employ_62</th>\n",
              "      <th>unemploy_62</th>\n",
              "      <th>poor_people_62</th>\n",
              "    </tr>\n",
              "  </thead>\n",
              "  <tbody>\n",
              "    <tr>\n",
              "      <th>0</th>\n",
              "      <td>ภาคกลาง</td>\n",
              "      <td>กรุงเทพมหานคร</td>\n",
              "      <td>ท้องถิ่นเขตพระนคร</td>\n",
              "      <td>พระบรมมหาราชวัง</td>\n",
              "      <td>3346</td>\n",
              "      <td>1207</td>\n",
              "      <td>39459.36</td>\n",
              "      <td>5264292.95</td>\n",
              "      <td>32313.31</td>\n",
              "      <td>52907.19</td>\n",
              "    </tr>\n",
              "    <tr>\n",
              "      <th>1</th>\n",
              "      <td>ภาคกลาง</td>\n",
              "      <td>กรุงเทพมหานคร</td>\n",
              "      <td>ท้องถิ่นเขตพระนคร</td>\n",
              "      <td>วังบูรพาภิรมย์</td>\n",
              "      <td>9650</td>\n",
              "      <td>5363</td>\n",
              "      <td>39459.36</td>\n",
              "      <td>5264292.95</td>\n",
              "      <td>32313.31</td>\n",
              "      <td>52907.19</td>\n",
              "    </tr>\n",
              "    <tr>\n",
              "      <th>2</th>\n",
              "      <td>ภาคกลาง</td>\n",
              "      <td>กรุงเทพมหานคร</td>\n",
              "      <td>ท้องถิ่นเขตพระนคร</td>\n",
              "      <td>วัดราชบพิธ</td>\n",
              "      <td>3071</td>\n",
              "      <td>979</td>\n",
              "      <td>39459.36</td>\n",
              "      <td>5264292.95</td>\n",
              "      <td>32313.31</td>\n",
              "      <td>52907.19</td>\n",
              "    </tr>\n",
              "    <tr>\n",
              "      <th>3</th>\n",
              "      <td>ภาคกลาง</td>\n",
              "      <td>กรุงเทพมหานคร</td>\n",
              "      <td>ท้องถิ่นเขตพระนคร</td>\n",
              "      <td>สำราญราษฎร์</td>\n",
              "      <td>2940</td>\n",
              "      <td>1127</td>\n",
              "      <td>39459.36</td>\n",
              "      <td>5264292.95</td>\n",
              "      <td>32313.31</td>\n",
              "      <td>52907.19</td>\n",
              "    </tr>\n",
              "    <tr>\n",
              "      <th>4</th>\n",
              "      <td>ภาคกลาง</td>\n",
              "      <td>กรุงเทพมหานคร</td>\n",
              "      <td>ท้องถิ่นเขตพระนคร</td>\n",
              "      <td>ศาลเจ้าพ่อเสือ</td>\n",
              "      <td>2959</td>\n",
              "      <td>999</td>\n",
              "      <td>39459.36</td>\n",
              "      <td>5264292.95</td>\n",
              "      <td>32313.31</td>\n",
              "      <td>52907.19</td>\n",
              "    </tr>\n",
              "  </tbody>\n",
              "</table>\n",
              "</div>"
            ],
            "text/plain": [
              "    region       province  ... unemploy_62 poor_people_62\n",
              "0  ภาคกลาง  กรุงเทพมหานคร  ...    32313.31       52907.19\n",
              "1  ภาคกลาง  กรุงเทพมหานคร  ...    32313.31       52907.19\n",
              "2  ภาคกลาง  กรุงเทพมหานคร  ...    32313.31       52907.19\n",
              "3  ภาคกลาง  กรุงเทพมหานคร  ...    32313.31       52907.19\n",
              "4  ภาคกลาง  กรุงเทพมหานคร  ...    32313.31       52907.19\n",
              "\n",
              "[5 rows x 10 columns]"
            ]
          },
          "metadata": {
            "tags": []
          },
          "execution_count": 97
        }
      ]
    },
    {
      "cell_type": "code",
      "metadata": {
        "colab": {
          "base_uri": "https://localhost:8080/"
        },
        "id": "3k4BB1-gEQ07",
        "outputId": "7a31e77f-d633-4b0b-ea27-24bbef12cf13"
      },
      "source": [
        "df_province_char.columns"
      ],
      "execution_count": 94,
      "outputs": [
        {
          "output_type": "execute_result",
          "data": {
            "text/plain": [
              "Index(['province', 'district', 'subdistrict', 'population_63', 'household_63',\n",
              "       'region', 'avg_income_62', 'employ_62', 'unemploy_62',\n",
              "       'poor_people_62'],\n",
              "      dtype='object')"
            ]
          },
          "metadata": {
            "tags": []
          },
          "execution_count": 94
        }
      ]
    },
    {
      "cell_type": "code",
      "metadata": {
        "id": "0gdC-59KorV3"
      },
      "source": [
        "df_province_char.to_csv('/content/drive/MyDrive/ThaiME/ExternalData/full_province_char.csv', index=False)"
      ],
      "execution_count": 91,
      "outputs": []
    }
  ]
}